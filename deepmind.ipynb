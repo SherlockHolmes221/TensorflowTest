{
 "cells": [
  {
   "cell_type": "code",
   "execution_count": 1,
   "metadata": {},
   "outputs": [],
   "source": [
    "#coding:utf-8\n",
    "%matplotlib inline\n",
    "from __future__ import print_function\n",
    "import os\n",
    "from io import BytesIO\n",
    "import numpy as np\n",
    "import PIL.Image \n",
    "import scipy.misc\n",
    "import tensorflow as tf"
   ]
  },
  {
   "cell_type": "code",
   "execution_count": 2,
   "metadata": {},
   "outputs": [],
   "source": [
    "graph  = tf.Graph()\n",
    "sess = tf.InteractiveSession(graph = graph)"
   ]
  },
  {
   "cell_type": "code",
   "execution_count": 3,
   "metadata": {},
   "outputs": [
    {
     "name": "stdout",
     "output_type": "stream",
     "text": [
      "WARNING:tensorflow:From <ipython-input-3-641763084ca9>:3: FastGFile.__init__ (from tensorflow.python.platform.gfile) is deprecated and will be removed in a future version.\n",
      "Instructions for updating:\n",
      "Use tf.gfile.GFile.\n"
     ]
    }
   ],
   "source": [
    "model_fn = \"inception5h/tensorflow_inception_graph.pb\"\n",
    "\n",
    "with tf.gfile.FastGFile(model_fn,'rb') as f:\n",
    "    graph_def = tf.GraphDef()\n",
    "    graph_def.ParseFromString(f.read())"
   ]
  },
  {
   "cell_type": "code",
   "execution_count": 4,
   "metadata": {},
   "outputs": [],
   "source": [
    "#定义输入图像的占位符\n",
    "t_input = tf.placeholder(np.float32,name='input')\n",
    "    \n",
    "#图像预处理\n",
    "#减均值\n",
    "imagenet_mean = 117.0\n",
    "    \n",
    "#增加维度\n",
    "t_preprocessed = tf.expand_dims(t_input - imagenet_mean,0)\n",
    "    \n",
    "#导入模型并将预处理的图像送入网络中\n",
    "tf.import_graph_def(graph_def,{'input':t_preprocessed})"
   ]
  },
  {
   "cell_type": "code",
   "execution_count": 5,
   "metadata": {},
   "outputs": [
    {
     "name": "stdout",
     "output_type": "stream",
     "text": [
      "59\n"
     ]
    }
   ],
   "source": [
    "#找到卷积层\n",
    "layers = [op.name for op in graph.get_operations() \n",
    "          if op.type=='Conv2D' and 'import/' in op.name]\n",
    "print(len(layers))"
   ]
  },
  {
   "cell_type": "code",
   "execution_count": null,
   "metadata": {},
   "outputs": [],
   "source": [
    "print(layers)"
   ]
  },
  {
   "cell_type": "code",
   "execution_count": 6,
   "metadata": {},
   "outputs": [],
   "source": [
    "def savearray(img_array,img_name):\n",
    "    scipy.misc.toimage(img_array).save(img_name)\n",
    "    print('img saved %s' % img_name)"
   ]
  },
  {
   "cell_type": "code",
   "execution_count": 7,
   "metadata": {},
   "outputs": [],
   "source": [
    "#将图像放大ratio\n",
    "def resize_ratio(img,ratio):\n",
    "    min = img.min()\n",
    "    max = img.max()\n",
    "    img = (img - min) / (max-min) *255\n",
    "    img = np.float32(scipy.misc.imresize(img,ratio))\n",
    "    img = img / 255 *(max - min) + min\n",
    "    return img"
   ]
  },
  {
   "cell_type": "code",
   "execution_count": 15,
   "metadata": {},
   "outputs": [],
   "source": [
    "#调整图像尺寸\n",
    "def resize(img,hw):\n",
    "    min = img.min()\n",
    "    max = img.max()\n",
    "    img = (img - min) / (max-min) *255\n",
    "    img = np.float32(scipy.misc.imresize(img,hw))\n",
    "    img = img / 255 *(max - min) + min\n",
    "    return img"
   ]
  },
  {
   "cell_type": "code",
   "execution_count": 9,
   "metadata": {},
   "outputs": [],
   "source": [
    "#原始图像尺寸可能很大,从而导致内存耗尽问题\n",
    "#每次只对tile_ size * tile_ size大小的图像计算梯度，避免内存问\n",
    "def calc_grad_tiled(img, t_grad, tile_size=512):\n",
    "    sz = tile_size\n",
    "    h, w = img.shape[:2]\n",
    "    sx,sy = np.random.randint(sz, size=2)\n",
    "    img_shift = np.roll(np.roll(img, sx, 1),sy, 0) #先在行上做整体移动\n",
    "    grad = np.zeros_like(img)\n",
    "    \n",
    "    for y in range(0, max(h- sz // 2, sz), sz):\n",
    "        for x in range(0, max(w- sz// 2, sz), sz):\n",
    "            sub = img_shift[y:y + sz, x:x + sz]\n",
    "            g = sess.run(t_grad, {t_input: sub})\n",
    "            grad[y:y+ sz,x:x + sz]= g\n",
    "            \n",
    "    return np.roll(np.roll(grad, -sx, 1), -sy, 0)"
   ]
  },
  {
   "cell_type": "code",
   "execution_count": 10,
   "metadata": {},
   "outputs": [],
   "source": [
    "def render_native(t_obj,img0,iter_n=20,step=1.0):\n",
    "    t_score = tf.reduce_mean(t_obj)\n",
    "    t_grad = tf.gradients(t_score,t_input)[0]\n",
    "    \n",
    "    img = img0.copy()\n",
    "    \n",
    "    for i in range(iter_n):\n",
    "        g,score = sess.run([t_grad,t_score],{t_input:img})\n",
    "        g /= g.std() + 1e-8\n",
    "        img += g*step\n",
    "        print(\"iter:%d\" % (i+1),' score(mean)=%f' % score)\n",
    "              \n",
    "     #保存图片\n",
    "    savearray(img,'native_deepdream.jpg')"
   ]
  },
  {
   "cell_type": "code",
   "execution_count": 17,
   "metadata": {},
   "outputs": [],
   "source": [
    "#图像的拉普拉斯金字塔分解\n",
    "def render_deepdream(t_obj, img0,iter_n=10,step=1.5, \n",
    "                     octave_n=4, octave_scale=1.4):\n",
    "    t_score = tf.reduce_mean(t_obj)\n",
    "    t_grad = tf.gradients(t_score, t_input)[0]  \n",
    "    img = img0.copy()\n",
    "    \n",
    "    #将图像进行金字塔分解#从而分为高频、低频部分\n",
    "    octaves = []\n",
    "    for i in range(octave_n-1):\n",
    "        hw = img.shape[:2]\n",
    "        lo= resize(img, np.int32(np.float32(hw)/ octave_scale))\n",
    "        hi= img - resize(lo, hw)\n",
    "        img = lo\n",
    "        octaves.append(hi)\n",
    "\n",
    "    #首先生成低频的图像，再依次放大开加上高频\n",
    "    for octave in range(octave_n):\n",
    "        if octave > 0:\n",
    "            hi = octaves[-octave]\n",
    "            img = resize(img,hi.shape[:2])+hi\n",
    "            \n",
    "    for i in range(iter_n):\n",
    "        g = calc_grad_tiled(img,t_grad)\n",
    "        img += g* (step/ (np.abs(g).mean()+ 1e-7))\n",
    "\n",
    "    img = img.clip(0, 255)\n",
    "    savearray(img, 'mountain_deepdream.jpg')\n",
    "    im = PIL.Image.open(\"mountain_deepdream.jpg\").show()"
   ]
  },
  {
   "cell_type": "code",
   "execution_count": 12,
   "metadata": {},
   "outputs": [
    {
     "name": "stdout",
     "output_type": "stream",
     "text": [
      "iter:1  score(mean)=-20.062153\n",
      "iter:2  score(mean)=-30.255493\n",
      "iter:3  score(mean)=14.069202\n",
      "iter:4  score(mean)=83.265350\n",
      "iter:5  score(mean)=153.393860\n",
      "iter:6  score(mean)=213.695724\n",
      "iter:7  score(mean)=273.637329\n",
      "iter:8  score(mean)=311.356750\n",
      "iter:9  score(mean)=361.026001\n",
      "iter:10  score(mean)=414.331512\n",
      "iter:11  score(mean)=460.313904\n",
      "iter:12  score(mean)=490.162384\n",
      "iter:13  score(mean)=529.660339\n",
      "iter:14  score(mean)=563.659912\n",
      "iter:15  score(mean)=591.177551\n",
      "iter:16  score(mean)=627.152832\n",
      "iter:17  score(mean)=646.298523\n",
      "iter:18  score(mean)=674.900452\n",
      "iter:19  score(mean)=685.804443\n",
      "iter:20  score(mean)=718.683167\n",
      "img saved native_deepdream.jpg\n"
     ]
    },
    {
     "name": "stderr",
     "output_type": "stream",
     "text": [
      "/anaconda3/lib/python3.7/site-packages/ipykernel_launcher.py:2: DeprecationWarning: `toimage` is deprecated!\n",
      "`toimage` is deprecated in SciPy 1.0.0, and will be removed in 1.2.0.\n",
      "Use Pillow's ``Image.fromarray`` directly instead.\n",
      "  \n"
     ]
    }
   ],
   "source": [
    "#定义卷积层 通道数 并取出对应的tensor\n",
    "name = 'mixed4d_3x3_bottleneck_pre_relu'\n",
    "channel = 139\n",
    "\n",
    "layer_output = graph.get_tensor_by_name('import/%s:0' % name)\n",
    "\n",
    "#定义噪声图像\n",
    "image_noise = np.random.uniform(size=(224,224,3))+100.0\n",
    "\n",
    "#调用渲染函数\n",
    "render_native(layer_output[:,:,:,channel],image_noise,iter_n=20)\n",
    "\n",
    "#保存并显示图片\n",
    "im = PIL.Image.open('native_deepdream.jpg')\n",
    "im.show()\n",
    "im.save('native_single_chn.jpg')"
   ]
  },
  {
   "cell_type": "code",
   "execution_count": null,
   "metadata": {},
   "outputs": [],
   "source": [
    "#定义卷积层 通道数 并取出对应的tensor\n",
    "name = 'mixed4d_3x3_bottleneck_pre_relu'\n",
    "\n",
    "layer_output = graph.get_tensor_by_name('import/%s:0' % name)\n",
    "\n",
    "image_noise = np.random.uniform(size=(224,224,3))+100.0\n",
    "\n",
    "#调用渲染函数\n",
    "#不指定通道\n",
    "render_native(layer_output,image_noise,iter_n=20)\n",
    "\n",
    "im = PIL.Image.open('native_deepdream.jpg')\n",
    "im.show()\n",
    "im.save('native_single_chn.jpg')"
   ]
  },
  {
   "cell_type": "code",
   "execution_count": 13,
   "metadata": {},
   "outputs": [
    {
     "name": "stdout",
     "output_type": "stream",
     "text": [
      "iter:1  score(mean)=13.703018\n",
      "iter:2  score(mean)=17.948713\n",
      "iter:3  score(mean)=23.838718\n",
      "iter:4  score(mean)=29.935328\n",
      "iter:5  score(mean)=35.357555\n",
      "iter:6  score(mean)=40.110874\n",
      "iter:7  score(mean)=44.779991\n",
      "iter:8  score(mean)=48.602577\n",
      "iter:9  score(mean)=52.341274\n",
      "iter:10  score(mean)=55.210251\n",
      "iter:11  score(mean)=58.362148\n",
      "iter:12  score(mean)=61.072186\n",
      "iter:13  score(mean)=63.665562\n",
      "iter:14  score(mean)=66.043480\n",
      "iter:15  score(mean)=68.456337\n",
      "iter:16  score(mean)=70.420029\n",
      "iter:17  score(mean)=72.665192\n",
      "iter:18  score(mean)=74.284988\n",
      "iter:19  score(mean)=76.274757\n",
      "iter:20  score(mean)=77.873222\n",
      "iter:21  score(mean)=79.491112\n",
      "iter:22  score(mean)=80.921425\n",
      "iter:23  score(mean)=82.456726\n",
      "iter:24  score(mean)=83.729187\n",
      "iter:25  score(mean)=85.063194\n",
      "iter:26  score(mean)=86.365059\n",
      "iter:27  score(mean)=87.576828\n",
      "iter:28  score(mean)=88.910416\n",
      "iter:29  score(mean)=89.873627\n",
      "iter:30  score(mean)=91.084976\n",
      "img saved native_deepdream.jpg\n"
     ]
    },
    {
     "name": "stderr",
     "output_type": "stream",
     "text": [
      "/anaconda3/lib/python3.7/site-packages/ipykernel_launcher.py:2: DeprecationWarning: `toimage` is deprecated!\n",
      "`toimage` is deprecated in SciPy 1.0.0, and will be removed in 1.2.0.\n",
      "Use Pillow's ``Image.fromarray`` directly instead.\n",
      "  \n"
     ]
    }
   ],
   "source": [
    "#定义卷积层 通道数 并取出对应的tensor\n",
    "name = 'mixed4c'\n",
    "layer_output = graph.get_tensor_by_name('import/%s:0' % name)\n",
    "\n",
    "image_test = PIL.Image.open('test.jpeg')\n",
    "#调用渲染函数\n",
    "render_native(layer_output,image_test ,iter_n=30)\n",
    "\n",
    "im = PIL.Image.open('native_deepdream.jpg')\n",
    "im.show()\n",
    "im.save('mountain_native.jpg')"
   ]
  },
  {
   "cell_type": "code",
   "execution_count": 18,
   "metadata": {
    "scrolled": true
   },
   "outputs": [
    {
     "name": "stderr",
     "output_type": "stream",
     "text": [
      "/anaconda3/lib/python3.7/site-packages/ipykernel_launcher.py:6: DeprecationWarning: `imresize` is deprecated!\n",
      "`imresize` is deprecated in SciPy 1.0.0, and will be removed in 1.2.0.\n",
      "Use ``skimage.transform.resize`` instead.\n",
      "  \n"
     ]
    },
    {
     "name": "stdout",
     "output_type": "stream",
     "text": [
      "img saved mountain_deepdream.jpg\n"
     ]
    },
    {
     "name": "stderr",
     "output_type": "stream",
     "text": [
      "/anaconda3/lib/python3.7/site-packages/ipykernel_launcher.py:2: DeprecationWarning: `toimage` is deprecated!\n",
      "`toimage` is deprecated in SciPy 1.0.0, and will be removed in 1.2.0.\n",
      "Use Pillow's ``Image.fromarray`` directly instead.\n",
      "  \n"
     ]
    }
   ],
   "source": [
    "#定义卷积层 通道数 并取出对应的tensor\n",
    "name = 'mixed4c'\n",
    "layout_output = graph.get_tensor_by_name('import/%s:0' % name)\n",
    "\n",
    "image_test = PIL.Image.open('test.jpeg')\n",
    "image_test = np.float32(image_test)\n",
    "\n",
    "#调用渲染函数\n",
    "render_deepdream(tf.square(layer_output),image_test)"
   ]
  }
 ],
 "metadata": {
  "kernelspec": {
   "display_name": "Python 3",
   "language": "python",
   "name": "python3"
  },
  "language_info": {
   "codemirror_mode": {
    "name": "ipython",
    "version": 3
   },
   "file_extension": ".py",
   "mimetype": "text/x-python",
   "name": "python",
   "nbconvert_exporter": "python",
   "pygments_lexer": "ipython3",
   "version": "3.7.2"
  }
 },
 "nbformat": 4,
 "nbformat_minor": 2
}
