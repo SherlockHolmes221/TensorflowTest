{
 "cells": [
  {
   "cell_type": "code",
   "execution_count": 13,
   "metadata": {},
   "outputs": [],
   "source": [
    "import tensorflow as tf\n",
    "import tensorflow.examples.tutorials.mnist.input_data as input_data"
   ]
  },
  {
   "cell_type": "code",
   "execution_count": 25,
   "metadata": {},
   "outputs": [
    {
     "name": "stdout",
     "output_type": "stream",
     "text": [
      "Extracting MINIST_data/train-images-idx3-ubyte.gz\n",
      "Extracting MINIST_data/train-labels-idx1-ubyte.gz\n",
      "Extracting MINIST_data/t10k-images-idx3-ubyte.gz\n",
      "Extracting MINIST_data/t10k-labels-idx1-ubyte.gz\n",
      "WARNING:tensorflow:From /anaconda3/lib/python3.7/site-packages/tensorflow/contrib/learn/python/learn/datasets/mnist.py:290: DataSet.__init__ (from tensorflow.contrib.learn.python.learn.datasets.mnist) is deprecated and will be removed in a future version.\n",
      "Instructions for updating:\n",
      "Please use alternatives such as official/mnist/dataset.py from tensorflow/models.\n"
     ]
    }
   ],
   "source": [
    "#下载数据\n",
    "mnist = input_data.read_data_sets('MINIST_data',one_hot=True)"
   ]
  },
  {
   "cell_type": "code",
   "execution_count": 23,
   "metadata": {},
   "outputs": [],
   "source": [
    "x = tf.placeholder(\"float\", shape=[None, 784],name = \"X\")\n",
    "y = tf.placeholder(\"float\", shape=[None, 10],name = \"Y\")"
   ]
  },
  {
   "cell_type": "code",
   "execution_count": 16,
   "metadata": {},
   "outputs": [],
   "source": [
    "H1_NN = 256\n",
    "H2_NN = 64"
   ]
  },
  {
   "cell_type": "code",
   "execution_count": 17,
   "metadata": {},
   "outputs": [],
   "source": [
    "#输入层\n",
    "W1 = tf.Variable(tf.truncated_normal([784,H1_NN],stddev = 0.1))\n",
    "b1 = tf.Variable(tf.zeros([H1_NN]))\n",
    "\n",
    "#第一隐藏层\n",
    "W2 = tf.Variable(tf.truncated_normal([H1_NN,H2_NN],stddev = 0.1))\n",
    "b2 = tf.Variable(tf.zeros([H2_NN]))\n",
    "\n",
    "#第二隐藏层\n",
    "W3 = tf.Variable(tf.truncated_normal([H2_NN,10],stddev = 0.1))\n",
    "b3 = tf.Variable(tf.zeros([10]))"
   ]
  },
  {
   "cell_type": "code",
   "execution_count": 18,
   "metadata": {},
   "outputs": [],
   "source": [
    "#计算第一隐藏层结果\n",
    "Y1 = tf.nn.relu(tf.matmul(x,W1)+b1)\n",
    "#计算第二隐藏层结果\n",
    "Y2 = tf.nn.relu(tf.matmul(Y1,W2)+b2)\n",
    "#计算输出结果\n",
    "forward = tf.nn.relu(tf.matmul(Y2,W3)+b3)\n",
    "pred = tf.nn.softmax(forward)"
   ]
  },
  {
   "cell_type": "code",
   "execution_count": 24,
   "metadata": {},
   "outputs": [],
   "source": [
    "#交叉熵\n",
    "loss_function = tf.reduce_mean(\n",
    "    tf.nn.softmax_cross_entropy_with_logits(logits=forward,labels=y))"
   ]
  },
  {
   "cell_type": "code",
   "execution_count": 26,
   "metadata": {},
   "outputs": [],
   "source": [
    "#设置训练参数\n",
    "train_epochs = 40\n",
    "batch_size = 50\n",
    "total_batch = int(mnist.train.num_examples/batch_size)\n",
    "display_steps = 1\n",
    "learning_rate = 0.01"
   ]
  },
  {
   "cell_type": "code",
   "execution_count": 27,
   "metadata": {},
   "outputs": [],
   "source": [
    "#选择优化器\n",
    "optimizer = tf.train.AdamOptimizer(learning_rate).minimize(loss_function)"
   ]
  },
  {
   "cell_type": "code",
   "execution_count": 30,
   "metadata": {},
   "outputs": [],
   "source": [
    "#定义准确率\n",
    "correct_prediction = tf.equal(tf.argmax(y,1),tf.argmax(pred,1))\n",
    "accurancy =tf.reduce_mean(tf.cast(correct_prediction,tf.float32))"
   ]
  }
 ],
 "metadata": {
  "kernelspec": {
   "display_name": "Python 3",
   "language": "python",
   "name": "python3"
  },
  "language_info": {
   "codemirror_mode": {
    "name": "ipython",
    "version": 3
   },
   "file_extension": ".py",
   "mimetype": "text/x-python",
   "name": "python",
   "nbconvert_exporter": "python",
   "pygments_lexer": "ipython3",
   "version": "3.7.2"
  }
 },
 "nbformat": 4,
 "nbformat_minor": 2
}
