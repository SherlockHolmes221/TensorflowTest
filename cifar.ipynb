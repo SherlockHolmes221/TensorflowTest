{
 "cells": [
  {
   "cell_type": "code",
   "execution_count": 1,
   "metadata": {},
   "outputs": [],
   "source": [
    "import urllib.request\n",
    "import os\n",
    "import tarfile"
   ]
  },
  {
   "cell_type": "code",
   "execution_count": 2,
   "metadata": {},
   "outputs": [],
   "source": [
    "url = 'https://www.cs.toronto.edu/~kriz/cifar-10-python.tar.gz'\n",
    "filepath = 'data/cifar-10-python.tar.gz'\n",
    "\n",
    "#下载\n",
    "if not os.path.isfile(filepath):\n",
    "    result = urllib.request.urlretrieve(url,filepath)\n",
    "    print('downloaded ' + str(result))\n",
    "else:\n",
    "    print('Data alreadly exists')\n",
    "    \n",
    "#解压\n",
    "if not os.path.exists('data/cifar-10-batches-py'):\n",
    "    tfile = tarfile.open('data/cifar-10-python.tar.gz','r:gz')\n",
    "    result  = tfile.extractall('data/')\n",
    "    print('Extrated to /data/cifar-10-batches-py/')\n",
    "else:\n",
    "    print(\"Directiry already exists\")"
   ]
  },
  {
   "cell_type": "code",
   "execution_count": 3,
   "metadata": {},
   "outputs": [],
   "source": [
    "import numpy as np\n",
    "import os\n",
    "import pickle as p"
   ]
  },
  {
   "cell_type": "code",
   "execution_count": 4,
   "metadata": {},
   "outputs": [],
   "source": [
    "def load_CIFAR_batch(filename):\n",
    "    with open(filename,'rb') as f:\n",
    "        data_dict = p.load(f,encoding='bytes')\n",
    "        images = data_dict[b'data']\n",
    "        labels = data_dict[b'labels']\n",
    "        \n",
    "        images = images.reshape(10000,3,32,32)\n",
    "        images = images.transpose(0,2,3,1)\n",
    "        \n",
    "        labels = np.array(labels)\n",
    "        return images,labels"
   ]
  },
  {
   "cell_type": "code",
   "execution_count": 5,
   "metadata": {},
   "outputs": [],
   "source": [
    "def load_CIFAR_data(data_dir):\n",
    "    images_train = []\n",
    "    labels_train = []\n",
    "    \n",
    "    for i in range(5):\n",
    "        f = os.path.join(data_dir,'data_batch_%d' % (i+1))\n",
    "        print('loading',str(f))\n",
    "        \n",
    "        image_batch,label_batch = load_CIFAR_batch(f)\n",
    "        images_train.append(image_batch)\n",
    "        labels_train.append(label_batch)\n",
    "        Xtrain = np.concatenate(images_train)\n",
    "        Ytrain = np.concatenate(labels_train)\n",
    "        del image_batch,label_batch\n",
    "        \n",
    "    Xtest,Ytest = load_CIFAR_batch(os.path.join(data_dir,'test_batch'))\n",
    "    print('finished loading CIAF-10 data')\n",
    "    \n",
    "    return Xtrain,Ytrain,Xtest,Ytest"
   ]
  },
  {
   "cell_type": "code",
   "execution_count": 6,
   "metadata": {},
   "outputs": [
    {
     "name": "stdout",
     "output_type": "stream",
     "text": [
      "loading data/cifar-10-batches-py/data_batch_1\n",
      "loading data/cifar-10-batches-py/data_batch_2\n",
      "loading data/cifar-10-batches-py/data_batch_3\n",
      "loading data/cifar-10-batches-py/data_batch_4\n",
      "loading data/cifar-10-batches-py/data_batch_5\n",
      "finished loading CIAF-10 data\n"
     ]
    }
   ],
   "source": [
    "data_dir = 'data/cifar-10-batches-py'\n",
    "Xtrain,Ytrain,Xtest,Ytest = load_CIFAR_data(data_dir)"
   ]
  },
  {
   "cell_type": "code",
   "execution_count": 7,
   "metadata": {},
   "outputs": [
    {
     "name": "stdout",
     "output_type": "stream",
     "text": [
      "(50000, 32, 32, 3)\n",
      "(50000,)\n",
      "(10000, 32, 32, 3)\n",
      "(10000,)\n"
     ]
    }
   ],
   "source": [
    "print(Xtrain.shape)\n",
    "print(Ytrain.shape)\n",
    "print(Xtest.shape)\n",
    "print(Ytest.shape)"
   ]
  },
  {
   "cell_type": "code",
   "execution_count": 8,
   "metadata": {},
   "outputs": [],
   "source": [
    "%matplotlib inline\n",
    "import matplotlib.pyplot as plt"
   ]
  },
  {
   "cell_type": "code",
   "execution_count": 9,
   "metadata": {},
   "outputs": [
    {
     "name": "stdout",
     "output_type": "stream",
     "text": [
      "2\n"
     ]
    },
    {
     "data": {
      "image/png": "[encoded data removed]",
      "text/plain": [
       "<Figure size 432x288 with 1 Axes>"
      ]
     },
     "metadata": {
      "needs_background": "light"
     },
     "output_type": "display_data"
    }
   ],
   "source": [
    "plt.imshow(Xtrain[6])\n",
    "print(Ytrain[6])"
   ]
  },
  {
   "cell_type": "code",
   "execution_count": 10,
   "metadata": {},
   "outputs": [],
   "source": [
    "label_dict = {0:\"airplane\",1:\"automobile\",2:\"bird\",3:\"cat\",4:\"deer\",\n",
    "              5:\"dog\",6:\"frog\",7:\"horse\",8:\"ship\",9:\"truck\"}"
   ]
  },
  {
   "cell_type": "code",
   "execution_count": 11,
   "metadata": {},
   "outputs": [],
   "source": [
    "def plot_images_labels_predictoion(images,labels,prediction,idx,num=10):\n",
    "    fig = plt.gcf()\n",
    "    fig.set_size_inches(12,6)\n",
    "    if num > 10:\n",
    "        num = 10    \n",
    "    for i in range(num):\n",
    "        ax = plt.subplot(2,5,1+i)\n",
    "        ax.imshow(images[idx],cmap='binary')\n",
    "        \n",
    "        title = str(i) +\",\"+label_dict[labels[idx]]\n",
    "        \n",
    "        if len(prediction) > 0:\n",
    "            title += '=>' + label_dict[prediction[idx]]\n",
    "            \n",
    "        ax.set_title(title,fontsize = 10)\n",
    "        idx+=1\n",
    "        \n",
    "    plt.show()"
   ]
  },
  {
   "cell_type": "code",
   "execution_count": 12,
   "metadata": {},
   "outputs": [
    {
     "data": {
      "image/png": "[encoded data removed]",
      "text/plain": [
       "<Figure size 864x432 with 10 Axes>"
      ]
     },
     "metadata": {
      "needs_background": "light"
     },
     "output_type": "display_data"
    }
   ],
   "source": [
    "plot_images_labels_predictoion(Xtest,Ytest,[],1,10)"
   ]
  },
  {
   "cell_type": "code",
   "execution_count": 13,
   "metadata": {},
   "outputs": [
    {
     "name": "stdout",
     "output_type": "stream",
     "text": [
      "[59 62 63]\n",
      "[0.23137255 0.24313726 0.24705882]\n"
     ]
    }
   ],
   "source": [
    "#数据预处理\n",
    "print(Xtrain[0][0][0])\n",
    "\n",
    "Xtrain_normalize = Xtrain.astype('float32') / 255.0\n",
    "Xtest_normalize = Xtest.astype('float32') / 255.0\n",
    "\n",
    "print(Xtrain_normalize[0][0][0])"
   ]
  },
  {
   "cell_type": "code",
   "execution_count": 14,
   "metadata": {},
   "outputs": [
    {
     "name": "stdout",
     "output_type": "stream",
     "text": [
      "(50000,)\n",
      "(50000, 10)\n"
     ]
    }
   ],
   "source": [
    "from sklearn.preprocessing import OneHotEncoder\n",
    "\n",
    "encoder = OneHotEncoder(sparse = False)\n",
    "\n",
    "yy = [[0],[1],[2],[3],[4],[5],[6],[7],[8],[9]]\n",
    "encoder.fit(yy)\n",
    "\n",
    "Ytrain_reshape = Ytrain.reshape(-1,1)\n",
    "Ytrain_onehot = encoder.transform(Ytrain_reshape)\n",
    "\n",
    "Ytest_reshape = Ytest.reshape(-1,1)\n",
    "Ytest_onehot = encoder.transform(Ytest_reshape)\n",
    "\n",
    "print(Ytrain.shape)\n",
    "print(Ytrain_onehot.shape)"
   ]
  },
  {
   "cell_type": "code",
   "execution_count": 15,
   "metadata": {},
   "outputs": [],
   "source": [
    "import tensorflow as tf\n",
    "\n",
    "def weight(shape):\n",
    "    return tf.Variable(tf.truncated_normal(shape,stddev = 0.1),name = 'W')\n",
    "\n",
    "def bias(shape):\n",
    "     return tf.Variable(tf.constant(0.1,shape = shape),name = 'b')\n",
    "    \n",
    "def conv2(x,W):\n",
    "    return tf.nn.conv2d(x,W,strides=[1,1,1,1],padding='SAME')\n",
    "\n",
    "def max_pool_2x2(x):\n",
    "     return tf.nn.max_pool(x,ksize = [1,2,2,1],strides=[1,2,2,1],padding='SAME')"
   ]
  },
  {
   "cell_type": "code",
   "execution_count": 16,
   "metadata": {},
   "outputs": [
    {
     "name": "stdout",
     "output_type": "stream",
     "text": [
      "WARNING:tensorflow:From /anaconda3/lib/python3.7/site-packages/tensorflow/python/framework/op_def_library.py:263: colocate_with (from tensorflow.python.framework.ops) is deprecated and will be removed in a future version.\n",
      "Instructions for updating:\n",
      "Colocations handled automatically by placer.\n",
      "WARNING:tensorflow:From <ipython-input-16-5b3a6aa9db14>:40: calling dropout (from tensorflow.python.ops.nn_ops) with keep_prob is deprecated and will be removed in a future version.\n",
      "Instructions for updating:\n",
      "Please use `rate` instead of `keep_prob`. Rate should be set to `rate = 1 - keep_prob`.\n"
     ]
    }
   ],
   "source": [
    "# 输入层\n",
    "#32x32图像 3通道\n",
    "with tf.name_scope('input_layer'):\n",
    "    x = tf.placeholder('float',shape=[None,32,32,3],name='X')\n",
    "\n",
    "#第一个卷积层\n",
    "#卷积核3x3，输入通道3，输出通道32\n",
    "with tf.name_scope('conv_1'):\n",
    "    W1 = weight([3,3,3,32])\n",
    "    b1 = bias([32])\n",
    "    conv_1 = conv2(x,W1)+b1\n",
    "    conv_1 = tf.nn.relu(conv_1)\n",
    "    \n",
    "#第一个池化层\n",
    "#降采样16x16,不该变输出通道\n",
    "with tf.name_scope('pool_1'):\n",
    "    pool_1 = max_pool_2x2(conv_1)\n",
    "\n",
    "    \n",
    "#第二个卷积层\n",
    "#卷积核3x3，输入通道32，输出通道64\n",
    "with tf.name_scope('conv_2'):\n",
    "    W2 = weight([3,3,32,64])\n",
    "    b2 = bias([64])\n",
    "    conv_2 = conv2(pool_1,W2)+b2\n",
    "    conv_2 = tf.nn.relu(conv_2)\n",
    "    \n",
    "#第二个池化层\n",
    "#降采样8x8,不该变输出通道\n",
    "with tf.name_scope('pool_2'):\n",
    "    pool_2 = max_pool_2x2(conv_2)\n",
    "    \n",
    "#全连接层8x8,x64 = 4096\n",
    "#128个神经元\n",
    "with tf.name_scope('fc'):\n",
    "    W3 = weight([4096,128])\n",
    "    b3 =  bias([128])\n",
    "    flat = tf.reshape(pool_2,[-1,4096])\n",
    "    h = tf.nn.softmax(tf.matmul(flat,W3)+b3)\n",
    "    h_dropout = tf.nn.dropout(h,keep_prob = 0.8)\n",
    "    \n",
    "#输出层\n",
    "#输出10个神经元\n",
    "with tf.name_scope('output_layer'):\n",
    "    W4 = weight([128,10])\n",
    "    b4 =  bias([10])\n",
    "    pred = tf.nn.softmax(tf.matmul(h_dropout,W4)+b4)"
   ]
  },
  {
   "cell_type": "code",
   "execution_count": 17,
   "metadata": {},
   "outputs": [
    {
     "name": "stdout",
     "output_type": "stream",
     "text": [
      "WARNING:tensorflow:From <ipython-input-17-b3d6b295b523>:8: softmax_cross_entropy_with_logits (from tensorflow.python.ops.nn_ops) is deprecated and will be removed in a future version.\n",
      "Instructions for updating:\n",
      "\n",
      "Future major versions of TensorFlow will allow gradients to flow\n",
      "into the labels input on backprop by default.\n",
      "\n",
      "See `tf.nn.softmax_cross_entropy_with_logits_v2`.\n",
      "\n"
     ]
    }
   ],
   "source": [
    "#构建模型\n",
    "with tf.name_scope(\"optimizer\"):\n",
    "    #定义占位符\n",
    "    y = tf.placeholder( \"float\", shape=[None,10],name= \"label\")\n",
    "\n",
    "    # 定义损失函数\n",
    "    loss_function = tf.reduce_mean(tf.nn.softmax_cross_entropy_with_logits\n",
    "                                   (logits=pred,labels=y))\n",
    "\n",
    "    #选择迭代器\n",
    "    optimizer = tf.train.AdamOptimizer(learning_rate=0.0001).minimize(loss_function)"
   ]
  },
  {
   "cell_type": "code",
   "execution_count": 18,
   "metadata": {},
   "outputs": [],
   "source": [
    "#定义准确率\n",
    "with tf.name_scope(\"evaluation\"):\n",
    "    correct_prediction = tf.equal(tf.argmax(pred, 1),\n",
    "                                  tf.argmax(y, 1))\n",
    "    accuracy = tf.reduce_mean(tf.cast(correct_prediction, \"float\"))"
   ]
  },
  {
   "cell_type": "code",
   "execution_count": 19,
   "metadata": {},
   "outputs": [],
   "source": [
    "#启动会话\n",
    "import os\n",
    "from time import time\n",
    "train_epochs =25\n",
    "batch_size = 50 \n",
    "total_batch = int(len(Xtrain)/batch_size)\n",
    "epoch_list= []\n",
    "accuracy_list=[]\n",
    "loss_list=[]\n",
    "epoch = tf.Variable(0,name= 'epoch',trainable= False)"
   ]
  },
  {
   "cell_type": "code",
   "execution_count": 20,
   "metadata": {},
   "outputs": [],
   "source": [
    "startTime=time()\n",
    "\n",
    "sess = tf.Session()\n",
    "init = tf.global_variables_initializer()\n",
    "sess.run(init)"
   ]
  },
  {
   "cell_type": "code",
   "execution_count": 21,
   "metadata": {},
   "outputs": [
    {
     "name": "stdout",
     "output_type": "stream",
     "text": [
      "Training from scratch.\n",
      "Training starts form 0 epoch.\n"
     ]
    }
   ],
   "source": [
    "#断点续训\n",
    "#设置检查点存储目录\n",
    "ckpt_dir = \"CIFAR10_log/\"\n",
    "if not os.path.exists(ckpt_dir):\n",
    "    os.makedirs(ckpt_dir)\n",
    "    \n",
    "#生成saver\n",
    "saver = tf.train.Saver(max_to_keep=1)\n",
    "\n",
    "#如果有检查点文件,读取最新的检查点文件，恢复各种变量值\n",
    "ckpt = tf.train.latest_checkpoint(ckpt_dir)\n",
    "if ckpt != None:\n",
    "    saver.restore(sess, ckpt)#加载所有的参数\n",
    "    #从这里开始就可以直接使用模型进行预测，或者接着继续训练了else:\n",
    "else:\n",
    "    print(\"Training from scratch.\")\n",
    "\n",
    "#获取续训参数\n",
    "start = sess.run(epoch)\n",
    "print(\"Training starts form 0 epoch.\" .format(start+1))"
   ]
  },
  {
   "cell_type": "code",
   "execution_count": 22,
   "metadata": {},
   "outputs": [],
   "source": [
    "def get_train_batch(number, batch_size):\n",
    "    return Xtrain_normalize[number*batch_size:(number+ 1)*batch_size], \\\n",
    "              Ytrain_onehot[number*batch_size:(number+ 1)*batch_size]"
   ]
  },
  {
   "cell_type": "code",
   "execution_count": 30,
   "metadata": {},
   "outputs": [
    {
     "name": "stdout",
     "output_type": "stream",
     "text": [
      "Step 0 finished\n",
      "Step 100 finished\n",
      "Step 200 finished\n",
      "Step 300 finished\n",
      "Step 400 finished\n",
      "Step 500 finished\n",
      "Step 600 finished\n",
      "Step 700 finished\n",
      "Step 800 finished\n",
      "Step 900 finished\n",
      "Train epoch: 01 Loss=';(.6f)  Accuracy= 0.08\n",
      "Step 0 finished\n",
      "Step 100 finished\n",
      "Step 200 finished\n",
      "Step 300 finished\n",
      "Step 400 finished\n",
      "Step 500 finished\n",
      "Step 600 finished\n",
      "Step 700 finished\n",
      "Step 800 finished\n",
      "Step 900 finished\n",
      "Train epoch: 02 Loss=';(.6f)  Accuracy= 0.12\n",
      "WARNING:tensorflow:From /anaconda3/lib/python3.7/site-packages/tensorflow/python/training/saver.py:966: remove_checkpoint (from tensorflow.python.training.checkpoint_management) is deprecated and will be removed in a future version.\n",
      "Instructions for updating:\n",
      "Use standard file APIs to delete files with this prefix.\n",
      "Step 0 finished\n",
      "Step 100 finished\n",
      "Step 200 finished\n",
      "Step 300 finished\n",
      "Step 400 finished\n",
      "Step 500 finished\n",
      "Step 600 finished\n",
      "Step 700 finished\n",
      "Step 800 finished\n",
      "Step 900 finished\n",
      "Train epoch: 03 Loss=';(.6f)  Accuracy= 0.18\n",
      "Step 0 finished\n",
      "Step 100 finished\n",
      "Step 200 finished\n",
      "Step 300 finished\n",
      "Step 400 finished\n",
      "Step 500 finished\n",
      "Step 600 finished\n",
      "Step 700 finished\n",
      "Step 800 finished\n",
      "Step 900 finished\n",
      "Train epoch: 04 Loss=';(.6f)  Accuracy= 0.14\n",
      "Step 0 finished\n",
      "Step 100 finished\n",
      "Step 200 finished\n",
      "Step 300 finished\n",
      "Step 400 finished\n",
      "Step 500 finished\n",
      "Step 600 finished\n",
      "Step 700 finished\n",
      "Step 800 finished\n",
      "Step 900 finished\n",
      "Train epoch: 05 Loss=';(.6f)  Accuracy= 0.22\n",
      "Step 0 finished\n",
      "Step 100 finished\n",
      "Step 200 finished\n",
      "Step 300 finished\n",
      "Step 400 finished\n",
      "Step 500 finished\n",
      "Step 600 finished\n",
      "Step 700 finished\n",
      "Step 800 finished\n",
      "Step 900 finished\n",
      "Train epoch: 06 Loss=';(.6f)  Accuracy= 0.26\n",
      "Step 0 finished\n",
      "Step 100 finished\n",
      "Step 200 finished\n",
      "Step 300 finished\n",
      "Step 400 finished\n",
      "Step 500 finished\n",
      "Step 600 finished\n",
      "Step 700 finished\n",
      "Step 800 finished\n"
     ]
    },
    {
     "ename": "KeyboardInterrupt",
     "evalue": "",
     "output_type": "error",
     "traceback": [
      "\u001b[0;31m---------------------------------------------------------------------------\u001b[0m",
      "\u001b[0;31mKeyboardInterrupt\u001b[0m                         Traceback (most recent call last)",
      "\u001b[0;32m<ipython-input-30-3aeec9f6e8d8>\u001b[0m in \u001b[0;36m<module>\u001b[0;34m()\u001b[0m\n\u001b[1;32m      3\u001b[0m     \u001b[0;32mfor\u001b[0m \u001b[0mi\u001b[0m \u001b[0;32min\u001b[0m \u001b[0mrange\u001b[0m\u001b[0;34m(\u001b[0m\u001b[0mtotal_batch\u001b[0m\u001b[0;34m)\u001b[0m\u001b[0;34m:\u001b[0m\u001b[0;34m\u001b[0m\u001b[0;34m\u001b[0m\u001b[0m\n\u001b[1;32m      4\u001b[0m         \u001b[0mbatch_x\u001b[0m\u001b[0;34m,\u001b[0m \u001b[0mbatch_y\u001b[0m \u001b[0;34m=\u001b[0m \u001b[0mget_train_batch\u001b[0m\u001b[0;34m(\u001b[0m\u001b[0mi\u001b[0m\u001b[0;34m,\u001b[0m\u001b[0mbatch_size\u001b[0m\u001b[0;34m)\u001b[0m\u001b[0;34m\u001b[0m\u001b[0;34m\u001b[0m\u001b[0m\n\u001b[0;32m----> 5\u001b[0;31m         \u001b[0msess\u001b[0m\u001b[0;34m.\u001b[0m\u001b[0mrun\u001b[0m\u001b[0;34m(\u001b[0m\u001b[0moptimizer\u001b[0m\u001b[0;34m,\u001b[0m\u001b[0mfeed_dict\u001b[0m\u001b[0;34m=\u001b[0m\u001b[0;34m{\u001b[0m\u001b[0mx\u001b[0m\u001b[0;34m:\u001b[0m \u001b[0mbatch_x\u001b[0m\u001b[0;34m,\u001b[0m \u001b[0my\u001b[0m\u001b[0;34m:\u001b[0m \u001b[0mbatch_y\u001b[0m\u001b[0;34m}\u001b[0m\u001b[0;34m)\u001b[0m\u001b[0;34m\u001b[0m\u001b[0;34m\u001b[0m\u001b[0m\n\u001b[0m\u001b[1;32m      6\u001b[0m         \u001b[0;32mif\u001b[0m \u001b[0mi\u001b[0m\u001b[0;34m%\u001b[0m \u001b[0;36m100\u001b[0m\u001b[0;34m==\u001b[0m\u001b[0;36m0\u001b[0m\u001b[0;34m:\u001b[0m\u001b[0;34m\u001b[0m\u001b[0;34m\u001b[0m\u001b[0m\n\u001b[1;32m      7\u001b[0m             \u001b[0mprint\u001b[0m\u001b[0;34m(\u001b[0m\u001b[0;34m\"Step {}\"\u001b[0m\u001b[0;34m.\u001b[0m\u001b[0mformat\u001b[0m\u001b[0;34m(\u001b[0m\u001b[0mi\u001b[0m\u001b[0;34m)\u001b[0m\u001b[0;34m,\u001b[0m \u001b[0;34m\"finished\"\u001b[0m\u001b[0;34m)\u001b[0m\u001b[0;34m\u001b[0m\u001b[0;34m\u001b[0m\u001b[0m\n",
      "\u001b[0;32m/anaconda3/lib/python3.7/site-packages/tensorflow/python/client/session.py\u001b[0m in \u001b[0;36mrun\u001b[0;34m(self, fetches, feed_dict, options, run_metadata)\u001b[0m\n\u001b[1;32m    927\u001b[0m     \u001b[0;32mtry\u001b[0m\u001b[0;34m:\u001b[0m\u001b[0;34m\u001b[0m\u001b[0;34m\u001b[0m\u001b[0m\n\u001b[1;32m    928\u001b[0m       result = self._run(None, fetches, feed_dict, options_ptr,\n\u001b[0;32m--> 929\u001b[0;31m                          run_metadata_ptr)\n\u001b[0m\u001b[1;32m    930\u001b[0m       \u001b[0;32mif\u001b[0m \u001b[0mrun_metadata\u001b[0m\u001b[0;34m:\u001b[0m\u001b[0;34m\u001b[0m\u001b[0;34m\u001b[0m\u001b[0m\n\u001b[1;32m    931\u001b[0m         \u001b[0mproto_data\u001b[0m \u001b[0;34m=\u001b[0m \u001b[0mtf_session\u001b[0m\u001b[0;34m.\u001b[0m\u001b[0mTF_GetBuffer\u001b[0m\u001b[0;34m(\u001b[0m\u001b[0mrun_metadata_ptr\u001b[0m\u001b[0;34m)\u001b[0m\u001b[0;34m\u001b[0m\u001b[0;34m\u001b[0m\u001b[0m\n",
      "\u001b[0;32m/anaconda3/lib/python3.7/site-packages/tensorflow/python/client/session.py\u001b[0m in \u001b[0;36m_run\u001b[0;34m(self, handle, fetches, feed_dict, options, run_metadata)\u001b[0m\n\u001b[1;32m   1150\u001b[0m     \u001b[0;32mif\u001b[0m \u001b[0mfinal_fetches\u001b[0m \u001b[0;32mor\u001b[0m \u001b[0mfinal_targets\u001b[0m \u001b[0;32mor\u001b[0m \u001b[0;34m(\u001b[0m\u001b[0mhandle\u001b[0m \u001b[0;32mand\u001b[0m \u001b[0mfeed_dict_tensor\u001b[0m\u001b[0;34m)\u001b[0m\u001b[0;34m:\u001b[0m\u001b[0;34m\u001b[0m\u001b[0;34m\u001b[0m\u001b[0m\n\u001b[1;32m   1151\u001b[0m       results = self._do_run(handle, final_targets, final_fetches,\n\u001b[0;32m-> 1152\u001b[0;31m                              feed_dict_tensor, options, run_metadata)\n\u001b[0m\u001b[1;32m   1153\u001b[0m     \u001b[0;32melse\u001b[0m\u001b[0;34m:\u001b[0m\u001b[0;34m\u001b[0m\u001b[0;34m\u001b[0m\u001b[0m\n\u001b[1;32m   1154\u001b[0m       \u001b[0mresults\u001b[0m \u001b[0;34m=\u001b[0m \u001b[0;34m[\u001b[0m\u001b[0;34m]\u001b[0m\u001b[0;34m\u001b[0m\u001b[0;34m\u001b[0m\u001b[0m\n",
      "\u001b[0;32m/anaconda3/lib/python3.7/site-packages/tensorflow/python/client/session.py\u001b[0m in \u001b[0;36m_do_run\u001b[0;34m(self, handle, target_list, fetch_list, feed_dict, options, run_metadata)\u001b[0m\n\u001b[1;32m   1326\u001b[0m     \u001b[0;32mif\u001b[0m \u001b[0mhandle\u001b[0m \u001b[0;32mis\u001b[0m \u001b[0;32mNone\u001b[0m\u001b[0;34m:\u001b[0m\u001b[0;34m\u001b[0m\u001b[0;34m\u001b[0m\u001b[0m\n\u001b[1;32m   1327\u001b[0m       return self._do_call(_run_fn, feeds, fetches, targets, options,\n\u001b[0;32m-> 1328\u001b[0;31m                            run_metadata)\n\u001b[0m\u001b[1;32m   1329\u001b[0m     \u001b[0;32melse\u001b[0m\u001b[0;34m:\u001b[0m\u001b[0;34m\u001b[0m\u001b[0;34m\u001b[0m\u001b[0m\n\u001b[1;32m   1330\u001b[0m       \u001b[0;32mreturn\u001b[0m \u001b[0mself\u001b[0m\u001b[0;34m.\u001b[0m\u001b[0m_do_call\u001b[0m\u001b[0;34m(\u001b[0m\u001b[0m_prun_fn\u001b[0m\u001b[0;34m,\u001b[0m \u001b[0mhandle\u001b[0m\u001b[0;34m,\u001b[0m \u001b[0mfeeds\u001b[0m\u001b[0;34m,\u001b[0m \u001b[0mfetches\u001b[0m\u001b[0;34m)\u001b[0m\u001b[0;34m\u001b[0m\u001b[0;34m\u001b[0m\u001b[0m\n",
      "\u001b[0;32m/anaconda3/lib/python3.7/site-packages/tensorflow/python/client/session.py\u001b[0m in \u001b[0;36m_do_call\u001b[0;34m(self, fn, *args)\u001b[0m\n\u001b[1;32m   1332\u001b[0m   \u001b[0;32mdef\u001b[0m \u001b[0m_do_call\u001b[0m\u001b[0;34m(\u001b[0m\u001b[0mself\u001b[0m\u001b[0;34m,\u001b[0m \u001b[0mfn\u001b[0m\u001b[0;34m,\u001b[0m \u001b[0;34m*\u001b[0m\u001b[0margs\u001b[0m\u001b[0;34m)\u001b[0m\u001b[0;34m:\u001b[0m\u001b[0;34m\u001b[0m\u001b[0;34m\u001b[0m\u001b[0m\n\u001b[1;32m   1333\u001b[0m     \u001b[0;32mtry\u001b[0m\u001b[0;34m:\u001b[0m\u001b[0;34m\u001b[0m\u001b[0;34m\u001b[0m\u001b[0m\n\u001b[0;32m-> 1334\u001b[0;31m       \u001b[0;32mreturn\u001b[0m \u001b[0mfn\u001b[0m\u001b[0;34m(\u001b[0m\u001b[0;34m*\u001b[0m\u001b[0margs\u001b[0m\u001b[0;34m)\u001b[0m\u001b[0;34m\u001b[0m\u001b[0;34m\u001b[0m\u001b[0m\n\u001b[0m\u001b[1;32m   1335\u001b[0m     \u001b[0;32mexcept\u001b[0m \u001b[0merrors\u001b[0m\u001b[0;34m.\u001b[0m\u001b[0mOpError\u001b[0m \u001b[0;32mas\u001b[0m \u001b[0me\u001b[0m\u001b[0;34m:\u001b[0m\u001b[0;34m\u001b[0m\u001b[0;34m\u001b[0m\u001b[0m\n\u001b[1;32m   1336\u001b[0m       \u001b[0mmessage\u001b[0m \u001b[0;34m=\u001b[0m \u001b[0mcompat\u001b[0m\u001b[0;34m.\u001b[0m\u001b[0mas_text\u001b[0m\u001b[0;34m(\u001b[0m\u001b[0me\u001b[0m\u001b[0;34m.\u001b[0m\u001b[0mmessage\u001b[0m\u001b[0;34m)\u001b[0m\u001b[0;34m\u001b[0m\u001b[0;34m\u001b[0m\u001b[0m\n",
      "\u001b[0;32m/anaconda3/lib/python3.7/site-packages/tensorflow/python/client/session.py\u001b[0m in \u001b[0;36m_run_fn\u001b[0;34m(feed_dict, fetch_list, target_list, options, run_metadata)\u001b[0m\n\u001b[1;32m   1317\u001b[0m       \u001b[0mself\u001b[0m\u001b[0;34m.\u001b[0m\u001b[0m_extend_graph\u001b[0m\u001b[0;34m(\u001b[0m\u001b[0;34m)\u001b[0m\u001b[0;34m\u001b[0m\u001b[0;34m\u001b[0m\u001b[0m\n\u001b[1;32m   1318\u001b[0m       return self._call_tf_sessionrun(\n\u001b[0;32m-> 1319\u001b[0;31m           options, feed_dict, fetch_list, target_list, run_metadata)\n\u001b[0m\u001b[1;32m   1320\u001b[0m \u001b[0;34m\u001b[0m\u001b[0m\n\u001b[1;32m   1321\u001b[0m     \u001b[0;32mdef\u001b[0m \u001b[0m_prun_fn\u001b[0m\u001b[0;34m(\u001b[0m\u001b[0mhandle\u001b[0m\u001b[0;34m,\u001b[0m \u001b[0mfeed_dict\u001b[0m\u001b[0;34m,\u001b[0m \u001b[0mfetch_list\u001b[0m\u001b[0;34m)\u001b[0m\u001b[0;34m:\u001b[0m\u001b[0;34m\u001b[0m\u001b[0;34m\u001b[0m\u001b[0m\n",
      "\u001b[0;32m/anaconda3/lib/python3.7/site-packages/tensorflow/python/client/session.py\u001b[0m in \u001b[0;36m_call_tf_sessionrun\u001b[0;34m(self, options, feed_dict, fetch_list, target_list, run_metadata)\u001b[0m\n\u001b[1;32m   1405\u001b[0m     return tf_session.TF_SessionRun_wrapper(\n\u001b[1;32m   1406\u001b[0m         \u001b[0mself\u001b[0m\u001b[0;34m.\u001b[0m\u001b[0m_session\u001b[0m\u001b[0;34m,\u001b[0m \u001b[0moptions\u001b[0m\u001b[0;34m,\u001b[0m \u001b[0mfeed_dict\u001b[0m\u001b[0;34m,\u001b[0m \u001b[0mfetch_list\u001b[0m\u001b[0;34m,\u001b[0m \u001b[0mtarget_list\u001b[0m\u001b[0;34m,\u001b[0m\u001b[0;34m\u001b[0m\u001b[0;34m\u001b[0m\u001b[0m\n\u001b[0;32m-> 1407\u001b[0;31m         run_metadata)\n\u001b[0m\u001b[1;32m   1408\u001b[0m \u001b[0;34m\u001b[0m\u001b[0m\n\u001b[1;32m   1409\u001b[0m   \u001b[0;32mdef\u001b[0m \u001b[0m_call_tf_sessionprun\u001b[0m\u001b[0;34m(\u001b[0m\u001b[0mself\u001b[0m\u001b[0;34m,\u001b[0m \u001b[0mhandle\u001b[0m\u001b[0;34m,\u001b[0m \u001b[0mfeed_dict\u001b[0m\u001b[0;34m,\u001b[0m \u001b[0mfetch_list\u001b[0m\u001b[0;34m)\u001b[0m\u001b[0;34m:\u001b[0m\u001b[0;34m\u001b[0m\u001b[0;34m\u001b[0m\u001b[0m\n",
      "\u001b[0;31mKeyboardInterrupt\u001b[0m: "
     ]
    }
   ],
   "source": [
    "#迭代训练\n",
    "for ep in range(start, train_epochs):\n",
    "    for i in range(total_batch):\n",
    "        batch_x, batch_y = get_train_batch(i,batch_size)\n",
    "        sess.run(optimizer,feed_dict={x: batch_x, y: batch_y})\n",
    "        if i% 100==0:\n",
    "            print(\"Step {}\".format(i), \"finished\")\n",
    "               \n",
    "    loss,acc = sess.run([loss_function,accuracy],feed_dict={x: batch_x, y: batch_y})\n",
    "    epoch_list.append(ep+1)\n",
    "    loss_list.append(loss)\n",
    "    accuracy_list.append(acc)\n",
    "\n",
    "    print(\"Train epoch:\", '%02d' % (sess.run(epoch)+1), \\\n",
    "          \"Loss=';(.6f)\" .format(loss),\" Accuracy=\" ,acc)\n",
    "                        \n",
    "    saver.save(sess,ckpt_dir+ \"CIFAR1O_cnn_model.cpkt\",global_step=ep+1)\n",
    "    sess.run(epoch.assign(ep+1))"
   ]
  },
  {
   "cell_type": "code",
   "execution_count": 31,
   "metadata": {},
   "outputs": [
    {
     "name": "stdout",
     "output_type": "stream",
     "text": [
      "Train finished takes: 601.9291348457336\n"
     ]
    }
   ],
   "source": [
    "duration = time() - startTime\n",
    "print(\"Train finished takes:\",duration)"
   ]
  },
  {
   "cell_type": "code",
   "execution_count": 36,
   "metadata": {},
   "outputs": [
    {
     "data": {
      "text/plain": [
       "<matplotlib.legend.Legend at 0x129f4d908>"
      ]
     },
     "execution_count": 36,
     "metadata": {},
     "output_type": "execute_result"
    },
    {
     "data": {
      "image/png": "[encoded data removed]",
      "text/plain": [
       "<Figure size 288x144 with 1 Axes>"
      ]
     },
     "metadata": {
      "needs_background": "light"
     },
     "output_type": "display_data"
    }
   ],
   "source": [
    "#可视化损失值\n",
    "%matplotlib inline\n",
    "import matplotlib.pyplot as plt\n",
    "fig = plt.gcf()\n",
    "fig.set_size_inches(4,2)\n",
    "plt.plot(epoch_list, loss_list, label= \"loss\")\n",
    "plt.ylabel('loss')\n",
    "plt.xlabel('epoch')\n",
    "plt.legend()"
   ]
  },
  {
   "cell_type": "code",
   "execution_count": 35,
   "metadata": {},
   "outputs": [
    {
     "data": {
      "image/png": "[encoded data removed]",
      "text/plain": [
       "<Figure size 288x144 with 1 Axes>"
      ]
     },
     "metadata": {
      "needs_background": "light"
     },
     "output_type": "display_data"
    }
   ],
   "source": [
    "#可视化准确率\n",
    "plt.plot(epoch_list, accuracy_list, label= \"accuracy\")\n",
    "fig = plt.gcf()\n",
    "fig.set_size_inches(4,2)\n",
    "plt.ylim(0.1,1)\n",
    "plt.ylabel('accuracy')\n",
    "plt.xlabel('epoch')\n",
    "plt.legend()\n",
    "plt.show()"
   ]
  },
  {
   "cell_type": "code",
   "execution_count": 40,
   "metadata": {},
   "outputs": [
    {
     "name": "stdout",
     "output_type": "stream",
     "text": [
      "Test accuracy:0.252600\n"
     ]
    }
   ],
   "source": [
    "#计算测试集上的准确率\n",
    "test_total_batch = int(len(Xtest_normalize)/batch_size)\n",
    "test_acc_sum = 0.0\n",
    "for i in range(test_total_batch):\n",
    "    test_image_batch  = Xtest_normalize[i*batch_size:(i+1)*batch_size]\n",
    "    test_label_batch = Ytest_onehot[i*batch_size:(i+1)*batch_size]\n",
    "    test_batch_acc = sess.run(accuracy, feed_dict= {x:test_image_batch,y:test_label_batch})\n",
    "    test_acc_sum += test_batch_acc\n",
    "    \n",
    "test_acc = float(test_acc_sum/test_total_batch)\n",
    "print('Test accuracy:{:.6f}'.format(test_acc))"
   ]
  },
  {
   "cell_type": "code",
   "execution_count": 43,
   "metadata": {},
   "outputs": [],
   "source": [
    "#利用模型进行预测\n",
    "test_pred = sess.run(pred,feed_dict={x: Xtest_normalize[:10]})\n",
    "prediction_result  = sess.run(tf.argmax(test_pred,1))"
   ]
  },
  {
   "cell_type": "code",
   "execution_count": null,
   "metadata": {},
   "outputs": [],
   "source": [
    "#可视化预测结果\n",
    "plot_images_lebels_prediction(Xtest,Ytest,prediction_result,0.10)"
   ]
  }
 ],
 "metadata": {
  "kernelspec": {
   "display_name": "Python 3",
   "language": "python",
   "name": "python3"
  },
  "language_info": {
   "codemirror_mode": {
    "name": "ipython",
    "version": 3
   },
   "file_extension": ".py",
   "mimetype": "text/x-python",
   "name": "python",
   "nbconvert_exporter": "python",
   "pygments_lexer": "ipython3",
   "version": "3.7.2"
  }
 },
 "nbformat": 4,
 "nbformat_minor": 2
}
