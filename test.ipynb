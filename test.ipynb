{
 "cells": [
  {
   "cell_type": "code",
   "execution_count": 5,
   "metadata": {},
   "outputs": [],
   "source": [
    "import tensorflow as tf\n",
    "import numpy as np"
   ]
  },
  {
   "cell_type": "code",
   "execution_count": 6,
   "metadata": {},
   "outputs": [],
   "source": [
    "input_data = tf.Variable(np.random.rand(10,9,9,4),dtype=np.float32)\n",
    "filter_data = tf.Variable(np.random.rand(3,3,4,2),dtype=np.float32)"
   ]
  },
  {
   "cell_type": "code",
   "execution_count": 7,
   "metadata": {},
   "outputs": [
    {
     "name": "stdout",
     "output_type": "stream",
     "text": [
      "<tf.Variable 'Variable_4:0' shape=(10, 9, 9, 4) dtype=float32_ref>\n",
      "Tensor(\"Conv2D_4:0\", shape=(10, 7, 7, 2), dtype=float32)\n",
      "Tensor(\"Conv2D_5:0\", shape=(10, 9, 9, 2), dtype=float32)\n"
     ]
    }
   ],
   "source": [
    "#卷积使用示例\n",
    "y1 = tf.nn.conv2d(input_data,filter_data,strides=[1,1,1,1],padding='VALID')\n",
    "y2 = tf.nn.conv2d(input_data,filter_data,strides=[1,1,1,1],padding='SAME')\n",
    "\n",
    "print(input_data)\n",
    "print(y1)\n",
    "print(y2)"
   ]
  },
  {
   "cell_type": "code",
   "execution_count": 11,
   "metadata": {},
   "outputs": [
    {
     "name": "stdout",
     "output_type": "stream",
     "text": [
      "Tensor(\"Conv2D_4:0\", shape=(10, 7, 7, 2), dtype=float32)\n",
      "Tensor(\"MaxPool_2:0\", shape=(10, 3, 3, 2), dtype=float32)\n",
      "Tensor(\"AvgPool_2:0\", shape=(10, 4, 4, 2), dtype=float32)\n"
     ]
    }
   ],
   "source": [
    "#最大池化\n",
    "output_data_max = tf.nn.max_pool(value = y1,ksize = [1,2,2,1],strides = [1,2,2,1],padding='VALID')\n",
    "\n",
    "#平均池化\n",
    "output_data_avg = tf.nn.avg_pool(value = y1,ksize = [1,2,2,1],strides = [1,2,2,1],padding='SAME')\n",
    "print(y1)\n",
    "print(output_data_max)\n",
    "print(output_data_avg)"
   ]
  }
 ],
 "metadata": {
  "kernelspec": {
   "display_name": "Python 3",
   "language": "python",
   "name": "python3"
  },
  "language_info": {
   "codemirror_mode": {
    "name": "ipython",
    "version": 3
   },
   "file_extension": ".py",
   "mimetype": "text/x-python",
   "name": "python",
   "nbconvert_exporter": "python",
   "pygments_lexer": "ipython3",
   "version": "3.7.2"
  }
 },
 "nbformat": 4,
 "nbformat_minor": 2
}
