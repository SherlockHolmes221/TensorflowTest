{
 "cells": [
  {
   "cell_type": "code",
   "execution_count": 1,
   "metadata": {},
   "outputs": [],
   "source": [
    "import tensorflow as tf\n",
    "import tensorflow.examples.tutorials.mnist.input_data as input_data"
   ]
  },
  {
   "cell_type": "code",
   "execution_count": 2,
   "metadata": {},
   "outputs": [
    {
     "name": "stdout",
     "output_type": "stream",
     "text": [
      "WARNING:tensorflow:From <ipython-input-2-6ab23377858a>:2: read_data_sets (from tensorflow.contrib.learn.python.learn.datasets.mnist) is deprecated and will be removed in a future version.\n",
      "Instructions for updating:\n",
      "Please use alternatives such as official/mnist/dataset.py from tensorflow/models.\n",
      "WARNING:tensorflow:From /anaconda3/lib/python3.7/site-packages/tensorflow/contrib/learn/python/learn/datasets/mnist.py:260: maybe_download (from tensorflow.contrib.learn.python.learn.datasets.base) is deprecated and will be removed in a future version.\n",
      "Instructions for updating:\n",
      "Please write your own downloading logic.\n",
      "WARNING:tensorflow:From /anaconda3/lib/python3.7/site-packages/tensorflow/contrib/learn/python/learn/datasets/mnist.py:262: extract_images (from tensorflow.contrib.learn.python.learn.datasets.mnist) is deprecated and will be removed in a future version.\n",
      "Instructions for updating:\n",
      "Please use tf.data to implement this functionality.\n",
      "Extracting MINIST_data/train-images-idx3-ubyte.gz\n",
      "WARNING:tensorflow:From /anaconda3/lib/python3.7/site-packages/tensorflow/contrib/learn/python/learn/datasets/mnist.py:267: extract_labels (from tensorflow.contrib.learn.python.learn.datasets.mnist) is deprecated and will be removed in a future version.\n",
      "Instructions for updating:\n",
      "Please use tf.data to implement this functionality.\n",
      "Extracting MINIST_data/train-labels-idx1-ubyte.gz\n",
      "WARNING:tensorflow:From /anaconda3/lib/python3.7/site-packages/tensorflow/contrib/learn/python/learn/datasets/mnist.py:110: dense_to_one_hot (from tensorflow.contrib.learn.python.learn.datasets.mnist) is deprecated and will be removed in a future version.\n",
      "Instructions for updating:\n",
      "Please use tf.one_hot on tensors.\n",
      "Extracting MINIST_data/t10k-images-idx3-ubyte.gz\n",
      "Extracting MINIST_data/t10k-labels-idx1-ubyte.gz\n",
      "WARNING:tensorflow:From /anaconda3/lib/python3.7/site-packages/tensorflow/contrib/learn/python/learn/datasets/mnist.py:290: DataSet.__init__ (from tensorflow.contrib.learn.python.learn.datasets.mnist) is deprecated and will be removed in a future version.\n",
      "Instructions for updating:\n",
      "Please use alternatives such as official/mnist/dataset.py from tensorflow/models.\n"
     ]
    }
   ],
   "source": [
    "#下载数据\n",
    "mnist = input_data.read_data_sets('MINIST_data',one_hot=True)"
   ]
  },
  {
   "cell_type": "code",
   "execution_count": 3,
   "metadata": {},
   "outputs": [],
   "source": [
    "x = tf.placeholder(\"float\", shape=[None, 784],name = \"X\")\n",
    "y = tf.placeholder(\"float\", shape=[None, 10],name = \"Y\")"
   ]
  },
  {
   "cell_type": "code",
   "execution_count": 4,
   "metadata": {},
   "outputs": [],
   "source": [
    "H1_NN = 256\n",
    "H2_NN = 64"
   ]
  },
  {
   "cell_type": "code",
   "execution_count": 5,
   "metadata": {},
   "outputs": [
    {
     "name": "stdout",
     "output_type": "stream",
     "text": [
      "WARNING:tensorflow:From /anaconda3/lib/python3.7/site-packages/tensorflow/python/framework/op_def_library.py:263: colocate_with (from tensorflow.python.framework.ops) is deprecated and will be removed in a future version.\n",
      "Instructions for updating:\n",
      "Colocations handled automatically by placer.\n"
     ]
    }
   ],
   "source": [
    "#输入层\n",
    "W1 = tf.Variable(tf.truncated_normal([784,H1_NN],stddev = 0.1))\n",
    "b1 = tf.Variable(tf.zeros([H1_NN]))\n",
    "\n",
    "#第一隐藏层\n",
    "W2 = tf.Variable(tf.truncated_normal([H1_NN,H2_NN],stddev = 0.1))\n",
    "b2 = tf.Variable(tf.zeros([H2_NN]))\n",
    "\n",
    "#第二隐藏层\n",
    "W3 = tf.Variable(tf.truncated_normal([H2_NN,10],stddev = 0.1))\n",
    "b3 = tf.Variable(tf.zeros([10]))"
   ]
  },
  {
   "cell_type": "code",
   "execution_count": 6,
   "metadata": {},
   "outputs": [],
   "source": [
    "#计算第一隐藏层结果\n",
    "Y1 = tf.nn.relu(tf.matmul(x,W1)+b1)\n",
    "#计算第二隐藏层结果\n",
    "Y2 = tf.nn.relu(tf.matmul(Y1,W2)+b2)\n",
    "#计算输出结果\n",
    "forward = tf.nn.relu(tf.matmul(Y2,W3)+b3)\n",
    "pred = tf.nn.softmax(forward)"
   ]
  },
  {
   "cell_type": "code",
   "execution_count": 7,
   "metadata": {},
   "outputs": [
    {
     "name": "stdout",
     "output_type": "stream",
     "text": [
      "WARNING:tensorflow:From <ipython-input-7-761909ddd406>:3: softmax_cross_entropy_with_logits (from tensorflow.python.ops.nn_ops) is deprecated and will be removed in a future version.\n",
      "Instructions for updating:\n",
      "\n",
      "Future major versions of TensorFlow will allow gradients to flow\n",
      "into the labels input on backprop by default.\n",
      "\n",
      "See `tf.nn.softmax_cross_entropy_with_logits_v2`.\n",
      "\n"
     ]
    }
   ],
   "source": [
    "#交叉熵\n",
    "loss_function = tf.reduce_mean(\n",
    "    tf.nn.softmax_cross_entropy_with_logits(logits=forward,labels=y))"
   ]
  },
  {
   "cell_type": "code",
   "execution_count": 8,
   "metadata": {},
   "outputs": [],
   "source": [
    "#设置训练参数\n",
    "train_epochs = 40\n",
    "batch_size = 50\n",
    "total_batch = int(mnist.train.num_examples/batch_size)\n",
    "display_steps = 1\n",
    "learning_rate = 0.01"
   ]
  },
  {
   "cell_type": "code",
   "execution_count": 9,
   "metadata": {},
   "outputs": [],
   "source": [
    "#选择优化器\n",
    "optimizer = tf.train.AdamOptimizer(learning_rate).minimize(loss_function)"
   ]
  },
  {
   "cell_type": "code",
   "execution_count": 10,
   "metadata": {},
   "outputs": [],
   "source": [
    "#定义准确率\n",
    "correct_prediction = tf.equal(tf.argmax(y,1),tf.argmax(pred,1))\n",
    "accurancy =tf.reduce_mean(tf.cast(correct_prediction,tf.float32))"
   ]
  },
  {
   "cell_type": "code",
   "execution_count": null,
   "metadata": {},
   "outputs": [
    {
     "name": "stdout",
     "output_type": "stream",
     "text": [
      "Train Epoch: 01 Loss= 0.592524886 Accuracy= 0.7724\n",
      "Train Epoch: 02 Loss= 0.559028924 Accuracy= 0.7826\n",
      "Train Epoch: 03 Loss= 0.569635093 Accuracy= 0.7798\n",
      "Train Epoch: 04 Loss= 0.560185730 Accuracy= 0.7834\n",
      "Train Epoch: 05 Loss= 0.389720112 Accuracy= 0.8686\n",
      "Train Epoch: 06 Loss= 0.367219716 Accuracy= 0.8668\n",
      "Train Epoch: 07 Loss= 0.372728467 Accuracy= 0.8716\n",
      "Train Epoch: 08 Loss= 0.378179550 Accuracy= 0.8736\n",
      "Train Epoch: 09 Loss= 0.361629307 Accuracy= 0.8746\n",
      "Train Epoch: 10 Loss= 0.377551705 Accuracy= 0.8714\n",
      "Train Epoch: 11 Loss= 0.384115905 Accuracy= 0.8692\n"
     ]
    }
   ],
   "source": [
    "#训练模型\n",
    "\n",
    "#记录训练开始时间\n",
    "from time import time\n",
    "\n",
    "startTime=time()\n",
    "\n",
    "sess = tf. Session()\n",
    "sess. run(tf. global_variables_initializer())\n",
    "\n",
    "for epoch in range(train_epochs):\n",
    "    for batch in range(total_batch):\n",
    "        xs, ys =mnist.train.next_batch(batch_size)#读取批次数据\n",
    "        sess.run(optimizer, feed_dict={x: xs,y:ys}) #执行批次训练\n",
    "        \n",
    "        #total batch个批次训练完成后，使用验证数据计算误差与准确率\n",
    "        loss,acc = sess. run([loss_function, accurancy],\n",
    "                             feed_dict= {x: mnist.validation.images,y: mnist.validation.labels})\n",
    "    \n",
    "    if (epoch+1)% display_steps == 0:\n",
    "        print('Train Epoch:','%02d' %(epoch+1),\n",
    "              \"Loss=\", \"{:.9f}\".format(loss) ,\"Accuracy=\",\"{:.4f}\".format(acc))\n",
    "            \n",
    "#显示运行总时间\n",
    "duration =time() - startTime\n",
    "print(\"Train Finished takes:\",\"{:.2f}\".format(duration))"
   ]
  },
  {
   "cell_type": "code",
   "execution_count": null,
   "metadata": {},
   "outputs": [],
   "source": [
    "#评估模型T\n",
    "accu_test = sess. run(accuracy,feed_dict={x: mnist.test.images, y: mnist.test.labels})\n",
    "print(\"TestAccuracy:\",accu_test)"
   ]
  }
 ],
 "metadata": {
  "kernelspec": {
   "display_name": "Python 3",
   "language": "python",
   "name": "python3"
  },
  "language_info": {
   "codemirror_mode": {
    "name": "ipython",
    "version": 3
   },
   "file_extension": ".py",
   "mimetype": "text/x-python",
   "name": "python",
   "nbconvert_exporter": "python",
   "pygments_lexer": "ipython3",
   "version": "3.7.2"
  }
 },
 "nbformat": 4,
 "nbformat_minor": 2
}
