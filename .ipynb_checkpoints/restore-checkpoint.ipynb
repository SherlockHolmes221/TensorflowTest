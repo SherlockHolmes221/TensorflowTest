{
 "cells": [
  {
   "cell_type": "code",
   "execution_count": null,
   "metadata": {},
   "outputs": [],
   "source": [
    "import tensorflow as tf\n",
    "import tensorflow.examples.tutorials.mnist.input_data as input_data"
   ]
  },
  {
   "cell_type": "code",
   "execution_count": null,
   "metadata": {},
   "outputs": [],
   "source": [
    "#下载数据\n",
    "mnist = input_data.read_data_sets('MINIST_data',one_hot=True)"
   ]
  },
  {
   "cell_type": "code",
   "execution_count": null,
   "metadata": {},
   "outputs": [],
   "source": [
    "x = tf.placeholder(\"float\", shape=[None, 784],name = \"X\")\n",
    "y = tf.placeholder(\"float\", shape=[None, 10],name = \"Y\")"
   ]
  },
  {
   "cell_type": "code",
   "execution_count": null,
   "metadata": {},
   "outputs": [],
   "source": [
    "def fcn_layer(inputs,input_dims,output_dims,activation=None):\n",
    "    W = tf.Variable(tf.truncated_normal([input_dims,output_dims],stddev = 0.1))\n",
    "    b = tf.Variable(tf.zeros([output_dims]))\n",
    "    \n",
    "    XWb = tf.matmul(inputs,W)+b\n",
    "    \n",
    "    if activation == None:\n",
    "        outputs = XWb\n",
    "    else:\n",
    "        outputs = activation(XWb)\n",
    "    \n",
    "    return outputs"
   ]
  },
  {
   "cell_type": "code",
   "execution_count": null,
   "metadata": {},
   "outputs": [],
   "source": [
    "#计算输出结果\n",
    "h1 = fcn_layer(inputs = x,input_dims = 784,output_dims = H1_NN,activation=tf.nn.relu)\n",
    "h2 = fcn_layer(inputs = h1,input_dims = H1_NN,output_dims = H2_NN,activation=tf.nn.relu)\n",
    "forward = fcn_layer(inputs = h2,input_dims = H2_NN,output_dims = 10,activation=None)\n",
    "pred = tf.nn.softmax(forward)"
   ]
  },
  {
   "cell_type": "code",
   "execution_count": null,
   "metadata": {},
   "outputs": [],
   "source": [
    "#选择优化器\n",
    "optimizer = tf.train.AdamOptimizer(learning_rate).minimize(loss_function)"
   ]
  },
  {
   "cell_type": "code",
   "execution_count": null,
   "metadata": {},
   "outputs": [],
   "source": [
    "#定义准确率\n",
    "correct_prediction = tf.equal(tf.argmax(y,1),tf.argmax(pred,1))\n",
    "accurancy =tf.reduce_mean(tf.cast(correct_prediction,tf.float32))"
   ]
  },
  {
   "cell_type": "code",
   "execution_count": null,
   "metadata": {},
   "outputs": [],
   "source": [
    "saver = tf.train.Saver()"
   ]
  },
  {
   "cell_type": "code",
   "execution_count": null,
   "metadata": {},
   "outputs": [],
   "source": [
    "startTime=time()\n",
    "\n",
    "sees = tf. Session()\n",
    "sees. run(tf. global_variables_initializer())"
   ]
  },
  {
   "cell_type": "code",
   "execution_count": null,
   "metadata": {},
   "outputs": [],
   "source": [
    "#评估模型T\n",
    "accu_test = sees. run(accuracy,feed_dict={x: mnist.test.images, y: mnist.test.labels})\n",
    "print(\"TestAccuracy:\",accu_test)"
   ]
  }
 ],
 "metadata": {
  "kernelspec": {
   "display_name": "Python 3",
   "language": "python",
   "name": "python3"
  },
  "language_info": {
   "codemirror_mode": {
    "name": "ipython",
    "version": 3
   },
   "file_extension": ".py",
   "mimetype": "text/x-python",
   "name": "python",
   "nbconvert_exporter": "python",
   "pygments_lexer": "ipython3",
   "version": "3.7.2"
  }
 },
 "nbformat": 4,
 "nbformat_minor": 2
}
